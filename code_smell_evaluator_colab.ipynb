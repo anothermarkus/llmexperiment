{
 "cells": [
  {
   "cell_type": "markdown",
   "id": "1c3f7c18",
   "metadata": {},
   "source": [
    "\n",
    "# Code Smell Evaluator\n",
    "\n",
    "This notebook runs code smell detection tests using the OpenAI API. It evaluates models on before/after code samples in both Angular and .NET projects, comparing expected vs. detected smells.\n",
    "\n",
    "**Requirements**:\n",
    "- `OPENAI_API_KEY` must be set as an environment variable or entered manually.\n",
    "- `code_review_samples.csv` should contain test data.\n"
   ]
  },
  {
   "cell_type": "code",
   "execution_count": null,
   "id": "9db27d4a",
   "metadata": {},
   "outputs": [],
   "source": [
    "\n",
    "import os\n",
    "import openai\n",
    "from getpass import getpass\n",
    "\n",
    "# You can either set the environment variable or enter it here\n",
    "openai.api_key = os.getenv(\"OPENAIAPITOKEN\") \n",
    "openai.base_url = os.getenv(\"OPENAPIBASEURL\")\n"
   ]
  },
  {
   "cell_type": "code",
   "execution_count": null,
   "id": "0779647e",
   "metadata": {},
   "outputs": [],
   "source": [
    "\n",
    "import pandas as pd\n",
    "import re\n",
    "import json\n",
    "import matplotlib.pyplot as plt\n",
    "from collections import defaultdict\n",
    "\n",
    "CSV_PATH = \"code_review_samples.csv\"\n"
   ]
  },
  {
   "cell_type": "code",
   "execution_count": null,
   "id": "f5e6c3bc",
   "metadata": {},
   "outputs": [],
   "source": [
    "\n",
    "def build_prompt(row):\n",
    "    short_prompt = \"You are a code reviewer. Identify any code smells in the provided code. Return a list of issues.\"\n",
    "    full_prompt = \"\"\"\n",
    "You are an enterprise code assistant. Carefully review the following code for any issues based on best practices:\n",
    "- Avoid code duplication (DRY)\n",
    "- Use null-conditional operators\n",
    "- Minimize deep nesting\n",
    "- Prefer async/await patterns\n",
    "- Proper exception handling\n",
    "\n",
    "Return any detected issues in a markdown table format.\n",
    "\"\"\"\n",
    "    system_prompt = short_prompt if row['prompt_type'] == 'short' else full_prompt\n",
    "    user_content = row['code_sample'] if row['code_input_type'] == 'full_file_plus_diff' else f\"Code diff:\\n{row['code_sample']}\"\n",
    "    return system_prompt, user_content\n"
   ]
  },
  {
   "cell_type": "code",
   "execution_count": null,
   "id": "9a457ce1",
   "metadata": {},
   "outputs": [],
   "source": [
    "\n",
    "def extract_smells_from_response(text):\n",
    "    import re\n",
    "    table_matches = re.findall(r'\\|\\s*(.*?)\\s*\\|', text)\n",
    "    known_smells = [\n",
    "        \"duplicate_code\", \"null_check\", \"deep_nesting\", \"async\", \"exception\", \n",
    "        \"structural_duplication\", \"unused_code\"\n",
    "    ]\n",
    "    found = set()\n",
    "    for match in table_matches:\n",
    "        for smell in known_smells:\n",
    "            if smell.lower() in match.lower():\n",
    "                found.add(smell)\n",
    "    return list(found)\n"
   ]
  },
  {
   "cell_type": "code",
   "execution_count": null,
   "id": "65099238",
   "metadata": {},
   "outputs": [],
   "source": [
    "\n",
    "def evaluate():\n",
    "    df = pd.read_csv(CSV_PATH)\n",
    "    results = []\n",
    "    for _, row in df.iterrows():\n",
    "        system_prompt, user_content = build_prompt(row)\n",
    "        try:\n",
    "            response = openai.ChatCompletion.create(\n",
    "                model=row['model'],\n",
    "                messages=[\n",
    "                    {\"role\": \"system\", \"content\": system_prompt},\n",
    "                    {\"role\": \"user\", \"content\": user_content}\n",
    "                ]\n",
    "            )\n",
    "            reply = response.choices[0].message.content\n",
    "            detected_smells = extract_smells_from_response(reply)\n",
    "            expected_smells = [] if row['expected_smells'] == 'none' else row['expected_smells'].split(',')\n",
    "\n",
    "            false_negatives = set(expected_smells) - set(detected_smells)\n",
    "            false_positives = set(detected_smells) - set(expected_smells)\n",
    "\n",
    "            results.append({\n",
    "                \"id\": row['id'],\n",
    "                \"language\": row['language'],\n",
    "                \"model\": row['model'],\n",
    "                \"false_negatives\": len(false_negatives),\n",
    "                \"false_positives\": len(false_positives)\n",
    "            })\n",
    "        except Exception as e:\n",
    "            print(f\"Error with row {row['id']}: {e}\")\n",
    "\n",
    "    return pd.DataFrame(results)\n"
   ]
  },
  {
   "cell_type": "code",
   "execution_count": null,
   "id": "d636916d",
   "metadata": {},
   "outputs": [],
   "source": [
    "\n",
    "def plot_results(df):\n",
    "    grouped = df.groupby(['language', 'model']).sum()[['false_negatives', 'false_positives']]\n",
    "    grouped.plot(kind='bar', figsize=(10, 6), title='False Positives / False Negatives by Language & Model')\n",
    "    plt.ylabel(\"Count\")\n",
    "    plt.tight_layout()\n",
    "    plt.show()\n"
   ]
  },
  {
   "cell_type": "code",
   "execution_count": null,
   "id": "cb340644",
   "metadata": {},
   "outputs": [],
   "source": [
    "\n",
    "results_df = evaluate()\n",
    "results_df.head()\n"
   ]
  },
  {
   "cell_type": "code",
   "execution_count": null,
   "id": "39aef4b5",
   "metadata": {},
   "outputs": [],
   "source": [
    "\n",
    "plot_results(results_df)\n"
   ]
  }
 ],
 "metadata": {
  "kernelspec": {
   "display_name": "Python 3",
   "language": "python",
   "name": "python3"
  },
  "language_info": {
   "codemirror_mode": {
    "name": "ipython",
    "version": 3
   },
   "file_extension": ".py",
   "mimetype": "text/x-python",
   "name": "python",
   "nbconvert_exporter": "python",
   "pygments_lexer": "ipython3",
   "version": "3.10.5"
  }
 },
 "nbformat": 4,
 "nbformat_minor": 5
}
